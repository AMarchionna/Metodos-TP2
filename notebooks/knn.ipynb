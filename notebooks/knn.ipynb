{
 "cells": [
  {
   "cell_type": "markdown",
   "metadata": {},
   "source": [
    "# Sentiment Analysis con KNN\n",
    "## Clasificador en C++ 💪💪\n",
    "Vamos a probar a nuestro bichito\n"
   ]
  },
  {
   "cell_type": "markdown",
   "metadata": {},
   "source": [
    "Definir los path al ejecutable de python 3.6 y sus librerías,\n",
    "de acuerdo al virtual env que estén corriendo."
   ]
  },
  {
   "cell_type": "code",
   "execution_count": 13,
   "metadata": {
    "scrolled": true
   },
   "outputs": [
    {
     "name": "stdout",
     "output_type": "stream",
     "text": [
      "mkdir: cannot create directory ‘build’: File exists\n",
      "-- The C compiler identification is GNU 7.4.0\n",
      "-- The CXX compiler identification is GNU 7.4.0\n",
      "-- Check for working C compiler: /usr/bin/cc\n",
      "-- Check for working C compiler: /usr/bin/cc -- works\n",
      "-- Detecting C compiler ABI info\n",
      "-- Detecting C compiler ABI info - done\n",
      "-- Detecting C compile features\n",
      "-- Detecting C compile features - done\n",
      "-- Check for working CXX compiler: /usr/bin/c++\n",
      "-- Check for working CXX compiler: /usr/bin/c++ -- works\n",
      "-- Detecting CXX compiler ABI info\n",
      "-- Detecting CXX compiler ABI info - done\n",
      "-- Detecting CXX compile features\n",
      "-- Detecting CXX compile features - done\n",
      "Release mode\n",
      "-- Found PythonInterp: /usr/bin/python3 (found version \"3.6.8\") \n",
      "-- Found PythonLibs: /usr/lib/x86_64-linux-gnu/libpython3.6m.so\n",
      "-- pybind11 v2.3.dev0\n",
      "-- Performing Test HAS_FLTO\n",
      "-- Performing Test HAS_FLTO - Success\n",
      "-- LTO enabled\n",
      "CMAKE_INSTALL_PREFIX=/home2/clinux01/Metodos-TP2\n",
      "-- Configuring done\n",
      "-- Generating done\n",
      "-- Build files have been written to: /home2/clinux01/Metodos-TP2/build\n",
      "\u001b[35m\u001b[1mScanning dependencies of target tp2_pybind\u001b[0m\n",
      "[  6%] \u001b[32mBuilding CXX object CMakeFiles/tp2_pybind.dir/src/main_pybind.cpp.o\u001b[0m\n",
      "[ 13%] \u001b[32mBuilding CXX object CMakeFiles/tp2_pybind.dir/src/knn.cpp.o\u001b[0m\n",
      "In file included from \u001b[01m\u001b[K/home2/clinux01/Metodos-TP2/src/knn.cpp:5:0\u001b[m\u001b[K:\n",
      "\u001b[01m\u001b[K/home2/clinux01/Metodos-TP2/src/knn.h:1:0:\u001b[m\u001b[K \u001b[01;35m\u001b[Kwarning: \u001b[m\u001b[Kignoring #pragma oncehttps  [\u001b[01;35m\u001b[K-Wunknown-pragmas\u001b[m\u001b[K]\n",
      " #pragma oncehttps://docs.scipy.org/doc/numpy/reference/generated/numpy.ndarray.astype.html\n",
      " \n",
      "[ 20%] \u001b[32mBuilding CXX object CMakeFiles/tp2_pybind.dir/src/pca.cpp.o\u001b[0m\n",
      "[ 26%] \u001b[32mBuilding CXX object CMakeFiles/tp2_pybind.dir/src/eigen.cpp.o\u001b[0m\n",
      "[ 33%] \u001b[32m\u001b[1mLinking CXX executable tp2_pybind\u001b[0m\n",
      "[ 33%] Built target tp2_pybind\n",
      "\u001b[35m\u001b[1mScanning dependencies of target sentiment\u001b[0m\n",
      "[ 40%] \u001b[32mBuilding CXX object CMakeFiles/sentiment.dir/src/sentiment.cpp.o\u001b[0m\n",
      "In file included from \u001b[01m\u001b[K/home2/clinux01/Metodos-TP2/src/sentiment.cpp:3:0\u001b[m\u001b[K:\n",
      "\u001b[01m\u001b[K/home2/clinux01/Metodos-TP2/src/knn.h:1:0:\u001b[m\u001b[K \u001b[01;35m\u001b[Kwarning: \u001b[m\u001b[Kignoring #pragma oncehttps  [\u001b[01;35m\u001b[K-Wunknown-pragmas\u001b[m\u001b[K]\n",
      " #pragma oncehttps://docs.scipy.org/doc/numpy/reference/generated/numpy.ndarray.astype.html\n",
      " \n",
      "[ 46%] \u001b[32mBuilding CXX object CMakeFiles/sentiment.dir/src/knn.cpp.o\u001b[0m\n",
      "In file included from \u001b[01m\u001b[K/home2/clinux01/Metodos-TP2/src/knn.cpp:5:0\u001b[m\u001b[K:\n",
      "\u001b[01m\u001b[K/home2/clinux01/Metodos-TP2/src/knn.h:1:0:\u001b[m\u001b[K \u001b[01;35m\u001b[Kwarning: \u001b[m\u001b[Kignoring #pragma oncehttps  [\u001b[01;35m\u001b[K-Wunknown-pragmas\u001b[m\u001b[K]\n",
      " #pragma oncehttps://docs.scipy.org/doc/numpy/reference/generated/numpy.ndarray.astype.html\n",
      " \n",
      "[ 53%] \u001b[32mBuilding CXX object CMakeFiles/sentiment.dir/src/pca.cpp.o\u001b[0m\n",
      "[ 60%] \u001b[32mBuilding CXX object CMakeFiles/sentiment.dir/src/eigen.cpp.o\u001b[0m\n",
      "[ 66%] \u001b[32m\u001b[1mLinking CXX shared module sentiment.cpython-36m-x86_64-linux-gnu.so\u001b[0m\n",
      "[ 66%] Built target sentiment\n",
      "\u001b[35m\u001b[1mScanning dependencies of target tp2\u001b[0m\n",
      "[ 73%] \u001b[32mBuilding CXX object CMakeFiles/tp2.dir/src/main.cpp.o\u001b[0m\n",
      "In file included from \u001b[01m\u001b[K/home2/clinux01/Metodos-TP2/src/main.cpp:6:0\u001b[m\u001b[K:\n",
      "\u001b[01m\u001b[K/home2/clinux01/Metodos-TP2/src/knn.h:1:0:\u001b[m\u001b[K \u001b[01;35m\u001b[Kwarning: \u001b[m\u001b[Kignoring #pragma oncehttps  [\u001b[01;35m\u001b[K-Wunknown-pragmas\u001b[m\u001b[K]\n",
      " #pragma oncehttps://docs.scipy.org/doc/numpy/reference/generated/numpy.ndarray.astype.html\n",
      " \n",
      "[ 80%] \u001b[32mBuilding CXX object CMakeFiles/tp2.dir/src/knn.cpp.o\u001b[0m\n",
      "In file included from \u001b[01m\u001b[K/home2/clinux01/Metodos-TP2/src/knn.cpp:5:0\u001b[m\u001b[K:\n",
      "\u001b[01m\u001b[K/home2/clinux01/Metodos-TP2/src/knn.h:1:0:\u001b[m\u001b[K \u001b[01;35m\u001b[Kwarning: \u001b[m\u001b[Kignoring #pragma oncehttps  [\u001b[01;35m\u001b[K-Wunknown-pragmas\u001b[m\u001b[K]\n",
      " #pragma oncehttps://docs.scipy.org/doc/numpy/reference/generated/numpy.ndarray.astype.html\n",
      " \n",
      "[ 86%] \u001b[32mBuilding CXX object CMakeFiles/tp2.dir/src/pca.cpp.o\u001b[0m\n",
      "[ 93%] \u001b[32mBuilding CXX object CMakeFiles/tp2.dir/src/eigen.cpp.o\u001b[0m\n",
      "[100%] \u001b[32m\u001b[1mLinking CXX executable tp2\u001b[0m\n",
      "[100%] Built target tp2\n",
      "\u001b[36mInstall the project...\u001b[0m\n",
      "-- Install configuration: \"Release\"\n",
      "-- Installing: /home2/clinux01/Metodos-TP2/notebooks/sentiment.cpython-36m-x86_64-linux-gnu.so\n"
     ]
    }
   ],
   "source": [
    "!cd .. && git submodule init\n",
    "!cd .. && git submodule update\n",
    "!cd .. && mkdir build\n",
    "!cd ../build/ && rm -rf *\n",
    "!cd ../build && cmake \\\n",
    "  -DPYTHON_EXECUTABLE=\"$(which python3)\" \\\n",
    "  -DCMAKE_BUILD_TYPE=Release ..\n",
    "!cd ../build && make install"
   ]
  },
  {
   "cell_type": "code",
   "execution_count": 1,
   "metadata": {},
   "outputs": [
    {
     "name": "stdout",
     "output_type": "stream",
     "text": [
      "/home2/clinux01/Metodos-TP2/notebooks\n",
      "Python 3.6.8\n"
     ]
    }
   ],
   "source": [
    "# Verifico la correcta instalación. Si no falla el import está OK\n",
    "!pwd\n",
    "!python3 --version\n",
    "import sentiment\n"
   ]
  },
  {
   "cell_type": "code",
   "execution_count": 2,
   "metadata": {},
   "outputs": [
    {
     "name": "stdout",
     "output_type": "stream",
     "text": [
      "tar: *.tgz: Cannot open: No such file or directory\n",
      "tar: Error is not recoverable: exiting now\n",
      "Cantidad de documentos: 12500\n"
     ]
    }
   ],
   "source": [
    "%load_ext autoreload\n",
    "%autoreload 2\n",
    "import pandas as pd\n",
    "\n",
    "!cd ../data && tar -xvf *.tgz\n",
    "\n",
    "df = pd.read_csv(\"../data/imdb_small.csv\", index_col=0)\n",
    "\n",
    "print(\"Cantidad de documentos: {}\".format(df.shape[0]))"
   ]
  },
  {
   "cell_type": "code",
   "execution_count": 3,
   "metadata": {},
   "outputs": [
    {
     "data": {
      "text/html": [
       "<div>\n",
       "<style scoped>\n",
       "    .dataframe tbody tr th:only-of-type {\n",
       "        vertical-align: middle;\n",
       "    }\n",
       "\n",
       "    .dataframe tbody tr th {\n",
       "        vertical-align: top;\n",
       "    }\n",
       "\n",
       "    .dataframe thead th {\n",
       "        text-align: right;\n",
       "    }\n",
       "</style>\n",
       "<table border=\"1\" class=\"dataframe\">\n",
       "  <thead>\n",
       "    <tr style=\"text-align: right;\">\n",
       "      <th></th>\n",
       "      <th>type</th>\n",
       "      <th>review</th>\n",
       "      <th>label</th>\n",
       "      <th>file</th>\n",
       "    </tr>\n",
       "  </thead>\n",
       "  <tbody>\n",
       "    <tr>\n",
       "      <th>count</th>\n",
       "      <td>12500</td>\n",
       "      <td>12500</td>\n",
       "      <td>12500</td>\n",
       "      <td>12500</td>\n",
       "    </tr>\n",
       "    <tr>\n",
       "      <th>unique</th>\n",
       "      <td>2</td>\n",
       "      <td>12469</td>\n",
       "      <td>2</td>\n",
       "      <td>12085</td>\n",
       "    </tr>\n",
       "    <tr>\n",
       "      <th>top</th>\n",
       "      <td>test</td>\n",
       "      <td>This show comes up with interesting locations ...</td>\n",
       "      <td>neg</td>\n",
       "      <td>5315_4.txt</td>\n",
       "    </tr>\n",
       "    <tr>\n",
       "      <th>freq</th>\n",
       "      <td>6275</td>\n",
       "      <td>2</td>\n",
       "      <td>6322</td>\n",
       "      <td>2</td>\n",
       "    </tr>\n",
       "  </tbody>\n",
       "</table>\n",
       "</div>"
      ],
      "text/plain": [
       "         type                                             review  label  \\\n",
       "count   12500                                              12500  12500   \n",
       "unique      2                                              12469      2   \n",
       "top      test  This show comes up with interesting locations ...    neg   \n",
       "freq     6275                                                  2   6322   \n",
       "\n",
       "              file  \n",
       "count        12500  \n",
       "unique       12085  \n",
       "top     5315_4.txt  \n",
       "freq             2  "
      ]
     },
     "execution_count": 3,
     "metadata": {},
     "output_type": "execute_result"
    }
   ],
   "source": [
    "df.describe()"
   ]
  },
  {
   "cell_type": "code",
   "execution_count": 4,
   "metadata": {},
   "outputs": [
    {
     "name": "stdout",
     "output_type": "stream",
     "text": [
      "Cantidad de instancias de entrenamiento = 6225\n",
      "Cantidad de instancias de test = 6275\n"
     ]
    }
   ],
   "source": [
    "text_train = df[df.type == 'train'][\"review\"]\n",
    "label_train = df[df.type == 'train'][\"label\"]\n",
    "\n",
    "text_test = df[df.type == 'test'][\"review\"]\n",
    "label_test = df[df.type == 'test'][\"label\"]\n",
    "\n",
    "print(\"Cantidad de instancias de entrenamiento = {}\".format(len(text_train)))\n",
    "print(\"Cantidad de instancias de test = {}\".format(len(text_test)))\n"
   ]
  },
  {
   "cell_type": "code",
   "execution_count": 5,
   "metadata": {},
   "outputs": [
    {
     "name": "stdout",
     "output_type": "stream",
     "text": [
      "Class balance : 3081 pos 3144 neg\n"
     ]
    }
   ],
   "source": [
    "print(\"Class balance : {} pos {} neg\".format(\n",
    "    (label_train == 'pos').sum(),\n",
    "    (label_train == 'neg').sum() ))\n"
   ]
  },
  {
   "cell_type": "code",
   "execution_count": 6,
   "metadata": {},
   "outputs": [],
   "source": [
    "from sklearn.feature_extraction.text import CountVectorizer\n",
    "\n",
    "vectorizer = CountVectorizer(max_df=0.90, min_df=0.01, max_features=500)\n",
    "\n",
    "vectorizer.fit(text_train)\n",
    "\n",
    "X_train, y_train = vectorizer.transform(text_train), (label_train == 'pos').values\n",
    "X_test, y_test = vectorizer.transform(text_test), (label_test == 'pos').values"
   ]
  },
  {
   "cell_type": "code",
   "execution_count": 7,
   "metadata": {},
   "outputs": [],
   "source": [
    "# Esta cell convierte los casos de test y de entrenamiento\n",
    "# al formato que requiere nuestro Knn y PCA\n",
    "\n",
    "y_test2 = []\n",
    "for i in range(len(y_test)):\n",
    "    y_test2.insert(i,0)\n",
    "\n",
    "for i in range(len(y_test)):\n",
    "    if y_test[i] == True:\n",
    "        y_test2[i] = 1\n",
    "    else :\n",
    "        y_test2[i] = 0\n",
    "        \n",
    "y_train2 = []\n",
    "for i in range(len(y_train)):\n",
    "    y_train2.insert(i,0)\n",
    "\n",
    "for i in range(len(y_train)):\n",
    "    if y_train[i] == True:\n",
    "        y_train2[i] = 1\n",
    "    else :\n",
    "        y_train2[i] = 0\n",
    "\n"
   ]
  },
  {
   "cell_type": "code",
   "execution_count": 9,
   "metadata": {
    "scrolled": false
   },
   "outputs": [
    {
     "name": "stdout",
     "output_type": "stream",
     "text": [
      "k,alpha,accuracy\n",
      "76,61,0.6532270916334662\n",
      "CPU times: user 1min, sys: 180 ms, total: 1min\n",
      "Wall time: 1min\n"
     ]
    }
   ],
   "source": [
    "%%time\n",
    "\n",
    "import sentiment\n",
    "from sklearn.metrics import accuracy_score\n",
    "\n",
    "from sentiment import PCA, KNNClassifier\n",
    "\n",
    "#Experimentacion del modelo sin PCA variando el k\n",
    "#print(\"k,accuracy\")\n",
    "#Experimentacion del modelo variando k y alpha\n",
    "print(\"k,alpha,accuracy\")\n",
    "#for alpha in range(1,100,20): \n",
    "pca = PCA(61)\n",
    "pca.fit(X_train.toarray())\n",
    "X_train2 = pca.transform(X_train)\n",
    "X_test2 = pca.transform(X_test)\n",
    "\n",
    "clf = sentiment.KNNClassifier(76)\n",
    "clf.fit(X_train2,y_train)\n",
    "y_pred = clf.predict(X_test2)\n",
    "        #print(y_pred)\n",
    "res = 0\n",
    "for i in range(len(y_test2)):\n",
    "    if abs(y_test2[i] - y_pred[i])<1e-4:\n",
    "        res =res + 1\n",
    "        #acc = accuracy_score(y_test2, y_pred)\n",
    "print(\"{},{},{}\".format(76,61,res/len(y_pred)))\n"
   ]
  },
  {
   "cell_type": "code",
   "execution_count": 17,
   "metadata": {},
   "outputs": [
    {
     "name": "stdout",
     "output_type": "stream",
     "text": [
      "Accuracy: 0.6543426294820717\n",
      "CPU times: user 1min 11s, sys: 136 ms, total: 1min 11s\n",
      "Wall time: 1min 11s\n"
     ]
    }
   ],
   "source": [
    "%%time\n",
    "\n",
    "from sentiment import PCA, KNNClassifier\n",
    "\n",
    "# Ejecucion con los valores optimos encontrados\n",
    "# Correr con todos los casos de train y test\n",
    "alphaOptimo = 80\n",
    "kOptimo = 161\n",
    "\n",
    "# PCA\n",
    "pca = PCA(alphaOptimo)\n",
    "pca.fit(X_train.toarray())\n",
    "X_train2 = pca.transform(X_train)\n",
    "X_test2 = pca.transform(X_test)\n",
    "\n",
    "# Knn\n",
    "clf = sentiment.KNNClassifier(kOptimo)\n",
    "clf.fit(X_train2,y_train)\n",
    "\n",
    "from sklearn.metrics import accuracy_score\n",
    "y_pred = clf.predict(X_test2)\n",
    "\n",
    "acc = accuracy_score(y_test, y_pred)\n",
    "print(\"Accuracy: {}\".format(acc))"
   ]
  },
  {
   "cell_type": "code",
   "execution_count": null,
   "metadata": {},
   "outputs": [],
   "source": [
    "%%time\n",
    "\n",
    "import sentiment\n",
    "from sklearn.metrics import accuracy_score\n",
    "\n",
    "from sentiment import PCA, KNNClassifier\n",
    "\n",
    "pca = PCA(61)\n",
    "pca.fit(X_train.toarray())\n",
    "X_train2 = pca.transform(X_train)\n",
    "X_test2 = pca.transform(X_test)\n",
    "\n",
    "clf = sentiment.KNNClassifier(76)\n",
    "clf.fit(X_train2,y_train)\n",
    "y_pred = clf.predict(X_test2)\n",
    "        #print(y_pred)\n",
    "res = 0\n",
    "for i in range(len(y_test2)):\n",
    "    if abs(y_test2[i] - y_pred[i])<1e-4:\n",
    "        res = res + 1\n",
    "        #acc = accuracy_score(y_test2, y_pred)\n",
    "print(\"{},{},{}\".format(161,alpha,res/len(y_pred)))"
   ]
  },
  {
   "cell_type": "code",
   "execution_count": null,
   "metadata": {},
   "outputs": [],
   "source": []
  }
 ],
 "metadata": {
  "kernelspec": {
   "display_name": "Python 3",
   "language": "python",
   "name": "python3"
  },
  "language_info": {
   "codemirror_mode": {
    "name": "ipython",
    "version": 3
   },
   "file_extension": ".py",
   "mimetype": "text/x-python",
   "name": "python",
   "nbconvert_exporter": "python",
   "pygments_lexer": "ipython3",
   "version": "3.7.3"
  }
 },
 "nbformat": 4,
 "nbformat_minor": 2
}
